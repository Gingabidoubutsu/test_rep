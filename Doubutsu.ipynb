{
  "nbformat": 4,
  "nbformat_minor": 0,
  "metadata": {
    "colab": {
      "provenance": []
    },
    "kernelspec": {
      "name": "python3",
      "display_name": "Python 3"
    },
    "language_info": {
      "name": "python"
    }
  },
  "cells": [
    {
      "cell_type": "markdown",
      "metadata": {
        "id": "8kW_qXJVTjic"
      },
      "source": [
        "# 「動物園の飼育員」ボット\n",
        "StreamlitとChatGPT APIを使い、動物についての情報を教えるチャットボットを構築します。  "
      ]
    },
    {
      "cell_type": "markdown",
      "source": [
        "## ライブラリのインストール\n",
        "Streamlit、およびアプリの動作の確認に使用する「ngrok」をインストールします。  \n",
        "また、ChatGPT APIを使用するために必要なライブラリ、openaiをインストールします。  "
      ],
      "metadata": {
        "id": "vRJCuxALcgkb"
      }
    },
    {
      "cell_type": "code",
      "execution_count": 2,
      "metadata": {
        "id": "Pbqipzj3nCy4",
        "colab": {
          "base_uri": "https://localhost:8080/"
        },
        "outputId": "9dc3a286-e549-4cbd-bccf-aaab92acd05e"
      },
      "outputs": [
        {
          "output_type": "stream",
          "name": "stdout",
          "text": [
            "\u001b[2K     \u001b[90m━━━━━━━━━━━━━━━━━━━━━━━━━━━━━━━━━━━━━━━━\u001b[0m \u001b[32m9.6/9.6 MB\u001b[0m \u001b[31m39.0 MB/s\u001b[0m eta \u001b[36m0:00:00\u001b[0m\n",
            "\u001b[2K     \u001b[90m━━━━━━━━━━━━━━━━━━━━━━━━━━━━━━━━━━━━━━\u001b[0m \u001b[32m164.8/164.8 kB\u001b[0m \u001b[31m17.5 MB/s\u001b[0m eta \u001b[36m0:00:00\u001b[0m\n",
            "\u001b[?25h  Preparing metadata (setup.py) ... \u001b[?25l\u001b[?25hdone\n",
            "\u001b[2K     \u001b[90m━━━━━━━━━━━━━━━━━━━━━━━━━━━━━━━━━━━━━━\u001b[0m \u001b[32m188.5/188.5 kB\u001b[0m \u001b[31m21.8 MB/s\u001b[0m eta \u001b[36m0:00:00\u001b[0m\n",
            "\u001b[2K     \u001b[90m━━━━━━━━━━━━━━━━━━━━━━━━━━━━━━━━━━━━━━━━\u001b[0m \u001b[32m4.8/4.8 MB\u001b[0m \u001b[31m69.1 MB/s\u001b[0m eta \u001b[36m0:00:00\u001b[0m\n",
            "\u001b[2K     \u001b[90m━━━━━━━━━━━━━━━━━━━━━━━━━━━━━━━━━━━━━━━━\u001b[0m \u001b[32m82.1/82.1 kB\u001b[0m \u001b[31m10.5 MB/s\u001b[0m eta \u001b[36m0:00:00\u001b[0m\n",
            "\u001b[2K     \u001b[90m━━━━━━━━━━━━━━━━━━━━━━━━━━━━━━━━━━━━━━━━\u001b[0m \u001b[32m62.7/62.7 kB\u001b[0m \u001b[31m7.4 MB/s\u001b[0m eta \u001b[36m0:00:00\u001b[0m\n",
            "\u001b[?25h  Building wheel for validators (setup.py) ... \u001b[?25l\u001b[?25hdone\n",
            "  Preparing metadata (setup.py) ... \u001b[?25l\u001b[?25hdone\n",
            "  Building wheel for pyngrok (setup.py) ... \u001b[?25l\u001b[?25hdone\n",
            "Collecting openai\n",
            "  Downloading openai-0.27.8-py3-none-any.whl (73 kB)\n",
            "\u001b[2K     \u001b[90m━━━━━━━━━━━━━━━━━━━━━━━━━━━━━━━━━━━━━━━━\u001b[0m \u001b[32m73.6/73.6 kB\u001b[0m \u001b[31m4.4 MB/s\u001b[0m eta \u001b[36m0:00:00\u001b[0m\n",
            "\u001b[?25hRequirement already satisfied: requests>=2.20 in /usr/local/lib/python3.10/dist-packages (from openai) (2.27.1)\n",
            "Requirement already satisfied: tqdm in /usr/local/lib/python3.10/dist-packages (from openai) (4.65.0)\n",
            "Requirement already satisfied: aiohttp in /usr/local/lib/python3.10/dist-packages (from openai) (3.8.4)\n",
            "Requirement already satisfied: urllib3<1.27,>=1.21.1 in /usr/local/lib/python3.10/dist-packages (from requests>=2.20->openai) (1.26.16)\n",
            "Requirement already satisfied: certifi>=2017.4.17 in /usr/local/lib/python3.10/dist-packages (from requests>=2.20->openai) (2023.5.7)\n",
            "Requirement already satisfied: charset-normalizer~=2.0.0 in /usr/local/lib/python3.10/dist-packages (from requests>=2.20->openai) (2.0.12)\n",
            "Requirement already satisfied: idna<4,>=2.5 in /usr/local/lib/python3.10/dist-packages (from requests>=2.20->openai) (3.4)\n",
            "Requirement already satisfied: attrs>=17.3.0 in /usr/local/lib/python3.10/dist-packages (from aiohttp->openai) (23.1.0)\n",
            "Requirement already satisfied: multidict<7.0,>=4.5 in /usr/local/lib/python3.10/dist-packages (from aiohttp->openai) (6.0.4)\n",
            "Requirement already satisfied: async-timeout<5.0,>=4.0.0a3 in /usr/local/lib/python3.10/dist-packages (from aiohttp->openai) (4.0.2)\n",
            "Requirement already satisfied: yarl<2.0,>=1.0 in /usr/local/lib/python3.10/dist-packages (from aiohttp->openai) (1.9.2)\n",
            "Requirement already satisfied: frozenlist>=1.1.1 in /usr/local/lib/python3.10/dist-packages (from aiohttp->openai) (1.3.3)\n",
            "Requirement already satisfied: aiosignal>=1.1.2 in /usr/local/lib/python3.10/dist-packages (from aiohttp->openai) (1.3.1)\n",
            "Installing collected packages: openai\n",
            "Successfully installed openai-0.27.8\n"
          ]
        }
      ],
      "source": [
        "!pip install streamlit==1.20.0 --quiet\n",
        "!pip install pyngrok==4.1.1 --quiet\n",
        "!pip install openai"
      ]
    },
    {
      "cell_type": "markdown",
      "source": [
        "インストールの完了後、streamlit、ngrok、およびopenaiをインポートしておきます。"
      ],
      "metadata": {
        "id": "husUkYy5dhZ4"
      }
    },
    {
      "cell_type": "code",
      "source": [
        "import streamlit as st\n",
        "from pyngrok import ngrok\n",
        "import openai"
      ],
      "metadata": {
        "id": "OsHcq-kaDwIi"
      },
      "execution_count": 3,
      "outputs": []
    },
    {
      "cell_type": "markdown",
      "source": [
        "## 画像のアップロード\n",
        "チャットボットに使用するイメージ画像をアップロードします。  \n",
        "教材をダウンロードし、「Zoo.png」を画面左の「ファイル」にドラッグアンドドロップしましょう。  "
      ],
      "metadata": {
        "id": "-n80MNi5SJoE"
      }
    },
    {
      "cell_type": "markdown",
      "source": [
        "## チャットボットのコード\n",
        "`%%writefile`のマジックコマンドを使って、チャットボットのコードを「app.py」に書き込みます。  \n",
        "`sysytem`の`content`にチャットボットの機能や性格などの設定を記述しますが、意図しない動作を避けるために「やらないこと」（ネガティブプロンプト）も記述しましょう。"
      ],
      "metadata": {
        "id": "5fOtVgU5duPe"
      }
    },
    {
      "cell_type": "code",
      "source": [
        "%%writefile app.py\n",
        "# 以下を「app.py」に書き込み\n",
        "import streamlit as st\n",
        "import openai\n",
        "import secret_keys  # 外部ファイルにAPI keyを保存\n",
        "\n",
        "openai.api_key = secret_keys.openai_api_key\n",
        "\n",
        "system_prompt = \"\"\"\n",
        "あなたは優秀な動物園の飼育員です。\n",
        "動物の生態や、動物の種類、動物の特性、動物の生息地など動物園に来た人たちに対して教えてあげてください。\n",
        "あなたは動物園の飼育員なので、例えば以下のような動物に関すること以外のことを聞かれても、絶対に答えないでください。\n",
        "\n",
        "* 戦争\n",
        "* 芸能人\n",
        "* 科学\n",
        "* 歴史\n",
        "* プログラミング\n",
        "* 政治\n",
        "\"\"\"\n",
        "\n",
        "# st.session_stateを使いメッセージのやりとりを保存\n",
        "if \"messages\" not in st.session_state:\n",
        "    st.session_state[\"messages\"] = [\n",
        "        {\"role\": \"system\", \"content\": system_prompt}\n",
        "        ]\n",
        "\n",
        "# チャットボットとやりとりする関数\n",
        "def communicate():\n",
        "    messages = st.session_state[\"messages\"]\n",
        "\n",
        "    user_message = {\"role\": \"user\", \"content\": st.session_state[\"user_input\"]}\n",
        "    messages.append(user_message)\n",
        "\n",
        "    response = openai.ChatCompletion.create(\n",
        "        model=\"gpt-3.5-turbo\",\n",
        "        messages=messages\n",
        "    )\n",
        "\n",
        "    bot_message = response[\"choices\"][0][\"message\"]\n",
        "    messages.append(bot_message)\n",
        "\n",
        "    st.session_state[\"user_input\"] = \"\"  # 入力欄を消去\n",
        "\n",
        "\n",
        "# ユーザーインターフェイスの構築\n",
        "st.title(\"私は優秀な動物園の飼育員です。\")\n",
        "st.image(\"Zoo.png\")\n",
        "st.write(\"動物についてなんでも聞いてください!\")\n",
        "\n",
        "user_input = st.text_input(\"メッセージを入力してください。\", key=\"user_input\", on_change=communicate)\n",
        "\n",
        "if st.session_state[\"messages\"]:\n",
        "    messages = st.session_state[\"messages\"]\n",
        "\n",
        "    for message in reversed(messages[1:]):  # 直近のメッセージを上に\n",
        "        speaker = \"🙂\"\n",
        "        if message[\"role\"]==\"assistant\":\n",
        "            speaker=\"🤖\"\n",
        "\n",
        "        st.write(speaker + \": \" + message[\"content\"])"
      ],
      "metadata": {
        "id": "Ntj_BU3bnJli",
        "colab": {
          "base_uri": "https://localhost:8080/"
        },
        "outputId": "71a25759-da7f-402d-b1cc-1ca04d69cb46"
      },
      "execution_count": 4,
      "outputs": [
        {
          "output_type": "stream",
          "name": "stdout",
          "text": [
            "Writing app.py\n"
          ]
        }
      ]
    },
    {
      "cell_type": "markdown",
      "source": [
        "## OpenAIのAPI keyを設定\n",
        "ChatGPT APIを使用するために必要な「API key」を設定します。  \n",
        "`%%writefile`のマジックコマンドを使って、API keyを設定するコードを「secret_keys.py」に書き込みます。  \n",
        "以下のコードの、  \n",
        "`openai_api_key = \"Your API key\"`  \n",
        "における  \n",
        "`Your API key`の箇所を、自分のAPI keyに置き換えます。  \n",
        "ChatGPTのAPI keyは、OpenAIのサイトで取得できます。   \n",
        "https://platform.openai.com/account/api-keys\n"
      ],
      "metadata": {
        "id": "pCvWZuvqQvyC"
      }
    },
    {
      "cell_type": "code",
      "source": [
        "%%writefile secret_keys.py\n",
        "\n",
        "openai_api_key = \"Your API key\""
      ],
      "metadata": {
        "id": "4lkJr3dk89bD",
        "colab": {
          "base_uri": "https://localhost:8080/"
        },
        "outputId": "5c28b6d1-3523-489c-b4e0-ddc952eea228"
      },
      "execution_count": 5,
      "outputs": [
        {
          "output_type": "stream",
          "name": "stdout",
          "text": [
            "Writing secret_keys.py\n"
          ]
        }
      ]
    },
    {
      "cell_type": "markdown",
      "source": [
        "API keyの流出にはリスクがあります。  \n",
        "他者に知られないように、慎重に扱ってください。"
      ],
      "metadata": {
        "id": "2lEUNEp9n95k"
      }
    },
    {
      "cell_type": "markdown",
      "source": [
        "## ngrokのAuthtokenを設定\n",
        "ngrokで接続するために必要な「Authtoken」を設定します。  \n",
        "以下のコードの、  \n",
        "`!ngrok authtoken YourAuthtoken`  \n",
        "における  \n",
        "`YourAuthtoken`の箇所を、自分のAuthtokenに置き換えます。  \n",
        "Authtokenは、ngrokのサイトに登録すれば取得することができます。  \n",
        "https://ngrok.com/\n"
      ],
      "metadata": {
        "id": "j03EsJaHh4KK"
      }
    },
    {
      "cell_type": "code",
      "source": [
        "!ngrok authtoken YourAuthtoken"
      ],
      "metadata": {
        "id": "mTfmORj2Dn7-",
        "colab": {
          "base_uri": "https://localhost:8080/"
        },
        "outputId": "22075a6b-a04d-4ace-90ab-d9068fb69252"
      },
      "execution_count": 6,
      "outputs": [
        {
          "output_type": "stream",
          "name": "stdout",
          "text": [
            "Authtoken saved to configuration file: /root/.ngrok2/ngrok.yml\n"
          ]
        }
      ]
    },
    {
      "cell_type": "markdown",
      "source": [
        "ngrokのAuthtokenも、他者に知られないように慎重に扱ってください。"
      ],
      "metadata": {
        "id": "c_QaXaeyZHTJ"
      }
    },
    {
      "cell_type": "markdown",
      "source": [
        "## アプリの起動\n",
        "streamlitの`run`コマンドでアプリを起動します。\n"
      ],
      "metadata": {
        "id": "CnobL05MkjB1"
      }
    },
    {
      "cell_type": "code",
      "source": [
        "!streamlit run app.py &>/dev/null&  # 「&>/dev/null&」により、出力を非表示にしてバックグランドジョブとして実行"
      ],
      "metadata": {
        "id": "W0jXlMXWK0vi"
      },
      "execution_count": 7,
      "outputs": []
    },
    {
      "cell_type": "markdown",
      "source": [
        "ngrokのプロセスを終了した上で、新たにポートを指定して接続します。  \n",
        "接続の結果、urlを取得できます。  \n",
        "ngrokの無料プランでは同時に1つのプロセスしか動かせないので、エラーが発生した場合は「ランタイム」→「セッションの管理」で不要なGoogle Colabのセッションを修了しましょう。  "
      ],
      "metadata": {
        "id": "W5RLCJ7Sl2x_"
      }
    },
    {
      "cell_type": "code",
      "source": [
        "ngrok.kill()  # プロセスの修了\n",
        "url = ngrok.connect(port=\"8501\")  # 接続"
      ],
      "metadata": {
        "id": "v23ymsdLK3x7",
        "colab": {
          "base_uri": "https://localhost:8080/"
        },
        "outputId": "f31e5c6d-e5a9-4cbf-f78f-fdf03dd9e5bc"
      },
      "execution_count": 8,
      "outputs": [
        {
          "output_type": "stream",
          "name": "stderr",
          "text": [
            "INFO:pyngrok.process:ngrok process starting: 1364\n",
            "2023-07-14 02:16:52.339 INFO    pyngrok.process: ngrok process starting: 1364\n",
            "INFO:pyngrok.process:t=2023-07-14T02:16:52+0000 lvl=info msg=\"no configuration paths supplied\"\n",
            "\n",
            "2023-07-14 02:16:52.361 INFO    pyngrok.process: t=2023-07-14T02:16:52+0000 lvl=info msg=\"no configuration paths supplied\"\n",
            "\n",
            "INFO:pyngrok.process:t=2023-07-14T02:16:52+0000 lvl=info msg=\"using configuration at default config path\" path=/root/.ngrok2/ngrok.yml\n",
            "\n",
            "2023-07-14 02:16:52.369 INFO    pyngrok.process: t=2023-07-14T02:16:52+0000 lvl=info msg=\"using configuration at default config path\" path=/root/.ngrok2/ngrok.yml\n",
            "\n",
            "INFO:pyngrok.process:t=2023-07-14T02:16:52+0000 lvl=info msg=\"open config file\" path=/root/.ngrok2/ngrok.yml err=nil\n",
            "\n",
            "2023-07-14 02:16:52.376 INFO    pyngrok.process: t=2023-07-14T02:16:52+0000 lvl=info msg=\"open config file\" path=/root/.ngrok2/ngrok.yml err=nil\n",
            "\n",
            "INFO:pyngrok.process:t=2023-07-14T02:16:52+0000 lvl=info msg=\"starting web service\" obj=web addr=127.0.0.1:4040\n",
            "\n",
            "2023-07-14 02:16:52.389 INFO    pyngrok.process: t=2023-07-14T02:16:52+0000 lvl=info msg=\"starting web service\" obj=web addr=127.0.0.1:4040\n",
            "\n",
            "INFO:pyngrok.process:t=2023-07-14T02:16:52+0000 lvl=info msg=\"tunnel session started\" obj=tunnels.session\n",
            "\n",
            "2023-07-14 02:16:52.649 INFO    pyngrok.process: t=2023-07-14T02:16:52+0000 lvl=info msg=\"tunnel session started\" obj=tunnels.session\n",
            "\n",
            "INFO:pyngrok.process:t=2023-07-14T02:16:52+0000 lvl=info msg=\"client session established\" obj=csess id=0f016af298bd\n",
            "\n",
            "2023-07-14 02:16:52.654 INFO    pyngrok.process: t=2023-07-14T02:16:52+0000 lvl=info msg=\"client session established\" obj=csess id=0f016af298bd\n",
            "\n",
            "INFO:pyngrok.process:ngrok process has started: http://127.0.0.1:4040\n",
            "2023-07-14 02:16:52.662 INFO    pyngrok.process: ngrok process has started: http://127.0.0.1:4040\n",
            "INFO:pyngrok.process:t=2023-07-14T02:16:52+0000 lvl=info msg=start pg=/api/tunnels id=c93492c9bae6462f\n",
            "\n",
            "2023-07-14 02:16:52.676 INFO    pyngrok.process: t=2023-07-14T02:16:52+0000 lvl=info msg=start pg=/api/tunnels id=c93492c9bae6462f\n",
            "\n",
            "INFO:pyngrok.process:t=2023-07-14T02:16:52+0000 lvl=info msg=end pg=/api/tunnels id=c93492c9bae6462f status=200 dur=518.386µs\n",
            "\n",
            "2023-07-14 02:16:52.682 INFO    pyngrok.process: t=2023-07-14T02:16:52+0000 lvl=info msg=end pg=/api/tunnels id=c93492c9bae6462f status=200 dur=518.386µs\n",
            "\n",
            "INFO:pyngrok.process:t=2023-07-14T02:16:52+0000 lvl=info msg=start pg=/api/tunnels id=60bc561fe6880e67\n",
            "\n",
            "2023-07-14 02:16:52.687 INFO    pyngrok.process: t=2023-07-14T02:16:52+0000 lvl=info msg=start pg=/api/tunnels id=60bc561fe6880e67\n",
            "\n",
            "INFO:pyngrok.process:t=2023-07-14T02:16:52+0000 lvl=info msg=end pg=/api/tunnels id=60bc561fe6880e67 status=200 dur=128.795µs\n",
            "\n",
            "2023-07-14 02:16:52.695 INFO    pyngrok.process: t=2023-07-14T02:16:52+0000 lvl=info msg=end pg=/api/tunnels id=60bc561fe6880e67 status=200 dur=128.795µs\n",
            "\n",
            "INFO:pyngrok.process:t=2023-07-14T02:16:52+0000 lvl=info msg=start pg=/api/tunnels id=24bbf14cb462641f\n",
            "\n",
            "2023-07-14 02:16:52.704 INFO    pyngrok.process: t=2023-07-14T02:16:52+0000 lvl=info msg=start pg=/api/tunnels id=24bbf14cb462641f\n",
            "\n",
            "INFO:pyngrok.process:t=2023-07-14T02:16:52+0000 lvl=info msg=\"started tunnel\" obj=tunnels name=\"http-8501-931681fc-24d1-4e8f-92f8-3e920c2e795c (http)\" addr=http://localhost:8501 url=http://af46-34-125-111-40.ngrok-free.app\n",
            "\n",
            "2023-07-14 02:16:52.833 INFO    pyngrok.process: t=2023-07-14T02:16:52+0000 lvl=info msg=\"started tunnel\" obj=tunnels name=\"http-8501-931681fc-24d1-4e8f-92f8-3e920c2e795c (http)\" addr=http://localhost:8501 url=http://af46-34-125-111-40.ngrok-free.app\n",
            "\n",
            "INFO:pyngrok.process:t=2023-07-14T02:16:52+0000 lvl=info msg=\"started tunnel\" obj=tunnels name=http-8501-931681fc-24d1-4e8f-92f8-3e920c2e795c addr=http://localhost:8501 url=https://af46-34-125-111-40.ngrok-free.app\n",
            "\n",
            "2023-07-14 02:16:52.839 INFO    pyngrok.process: t=2023-07-14T02:16:52+0000 lvl=info msg=\"started tunnel\" obj=tunnels name=http-8501-931681fc-24d1-4e8f-92f8-3e920c2e795c addr=http://localhost:8501 url=https://af46-34-125-111-40.ngrok-free.app\n",
            "\n",
            "INFO:pyngrok.process:t=2023-07-14T02:16:52+0000 lvl=info msg=end pg=/api/tunnels id=24bbf14cb462641f status=201 dur=157.362509ms\n",
            "\n"
          ]
        }
      ]
    },
    {
      "cell_type": "markdown",
      "source": [
        "## 動作の確認"
      ],
      "metadata": {
        "id": "8tVONgWNwzZm"
      }
    },
    {
      "cell_type": "markdown",
      "source": [
        "URLのhttpの部分をhttpsに変換する関数を設定します。"
      ],
      "metadata": {
        "id": "OywWF0KBw4y5"
      }
    },
    {
      "cell_type": "code",
      "source": [
        "def convert_http_to_https(url):\n",
        "    if url.startswith(\"http://\"):\n",
        "        url = url.replace(\"http://\", \"https://\", 1)\n",
        "    return url"
      ],
      "metadata": {
        "id": "gaEkk5Dsx0rR",
        "colab": {
          "base_uri": "https://localhost:8080/"
        },
        "outputId": "310a6cd2-5f25-4384-86bb-809d4c94f3c4"
      },
      "execution_count": 9,
      "outputs": [
        {
          "output_type": "stream",
          "name": "stderr",
          "text": [
            "2023-07-14 02:16:52.843 INFO    pyngrok.process: t=2023-07-14T02:16:52+0000 lvl=info msg=end pg=/api/tunnels id=24bbf14cb462641f status=201 dur=157.362509ms\n",
            "\n"
          ]
        }
      ]
    },
    {
      "cell_type": "markdown",
      "source": [
        "変換したurlを表示し、リンク先でチャットボットが動作することを確認します。"
      ],
      "metadata": {
        "id": "NZ0O_pNan57t"
      }
    },
    {
      "cell_type": "code",
      "source": [
        "print(convert_http_to_https(url))"
      ],
      "metadata": {
        "id": "MIY7ositLAXC",
        "colab": {
          "base_uri": "https://localhost:8080/"
        },
        "outputId": "985bd7ea-c497-4ca4-e73d-72315f4338cc"
      },
      "execution_count": 10,
      "outputs": [
        {
          "output_type": "stream",
          "name": "stdout",
          "text": [
            "https://af46-34-125-111-40.ngrok-free.app\n"
          ]
        }
      ]
    },
    {
      "cell_type": "markdown",
      "source": [
        "チャットボットの動作確認後、OpenAIのサイトでAPIの使用量を確認してみましょう。  \n",
        "https://platform.openai.com/account/usage"
      ],
      "metadata": {
        "id": "B8hdFAd6VIaz"
      }
    }
  ]
}